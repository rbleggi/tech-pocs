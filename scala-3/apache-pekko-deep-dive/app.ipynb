{
 "cells": [
  {
   "metadata": {},
   "cell_type": "markdown",
   "source": "# Pekko: Actor-based Concurrency for the JVM",
   "id": "569b2905302d501b"
  },
  {
   "metadata": {},
   "cell_type": "markdown",
   "source": [
    "## Slide 1: History and Origins\n",
    "Akka was forked in 2023, giving rise to Pekko.\n",
    "Pekko is maintained by the Apache Software Foundation."
   ],
   "id": "bd62676521e6f825"
  },
  {
   "metadata": {},
   "cell_type": "markdown",
   "source": [
    "## Slide 2: Main Features\n",
    "- Actor Model\n",
    "- Clustering\n",
    "- Persistence\n",
    "- Streams\n",
    "- Typed Actors\n",
    "- Supervision\n",
    "- JVM Integration"
   ],
   "id": "9ee9c5289f921fd0"
  },
  {
   "metadata": {},
   "cell_type": "markdown",
   "source": [
    "## Slide 3: Architecture Overview\n",
    "Actors are lightweight, isolated, and communicate via asynchronous messages.\n",
    "Supervision provides resilience."
   ],
   "id": "32d22fda43daca8d"
  },
  {
   "metadata": {},
   "cell_type": "markdown",
   "source": [
    "## Slide 4: Pekko vs Erlang/OTP\n",
    "| Feature         | Pekko (Scala/JVM) | Erlang/OTP         |\n",
    "|-----------------|-------------------|--------------------|\n",
    "| Language        | Scala/Java        | Erlang             |\n",
    "| Ecosystem       | JVM, Java libs    | Erlang/BEAM        |\n",
    "| Supervision     | Yes               | Yes                |\n",
    "| Hot Code Swap   | Limited           | Native             |\n",
    "| Performance     | High, JVM-tuned   | High, BEAM-tuned   |\n",
    "| Community       | Growing           | Mature             |"
   ],
   "id": "f7a67e94e08f5e57"
  },
  {
   "metadata": {},
   "cell_type": "markdown",
   "source": [
    "## Slide 5: Pros and Cons\n",
    "**Pros:**\n",
    "- Scalable and resilient\n",
    "- JVM ecosystem\n",
    "- Familiar syntax for Java/Scala devs\n",
    "- Good for distributed systems\n",
    "\n",
    "**Cons:**\n",
    "- JVM startup/memory overhead\n",
    "- Hot code swap not as seamless as Erlang\n",
    "- Smaller community than Erlang/OTP"
   ],
   "id": "c86d499aa0b60df5"
  },
  {
   "metadata": {},
   "cell_type": "code",
   "outputs": [],
   "execution_count": null,
   "source": [
    "# Exemplo de código Python simulando um ator simples\n",
    "import threading\n",
    "import queue\n",
    "\n",
    "class SimpleActor(threading.Thread):\n",
    "    def __init__(self):\n",
    "        super().__init__()\n",
    "        self.inbox = queue.Queue()\n",
    "        self.running = True\n",
    "    def run(self):\n",
    "        while self.running:\n",
    "            msg = self.inbox.get()\n",
    "            if msg == 'STOP':\n",
    "                self.running = False\n",
    "            else:\n",
    "                print(f'Received: {msg}')\n",
    "\n",
    "actor = SimpleActor()\n",
    "actor.start()\n",
    "actor.inbox.put('Hello, Actor!')\n",
    "actor.inbox.put('STOP')\n",
    "actor.join()"
   ],
   "id": "d6863fe45f691cde"
  },
  {
   "metadata": {},
   "cell_type": "markdown",
   "source": [
    "## Slide 7: Demo Instructions\n",
    "1. Execute a célula de código acima.\n",
    "2. Veja a mensagem recebida pelo ator no console."
   ],
   "id": "9e2a360b492c1d5e"
  }
 ],
 "metadata": {},
 "nbformat": 4,
 "nbformat_minor": 5
}
